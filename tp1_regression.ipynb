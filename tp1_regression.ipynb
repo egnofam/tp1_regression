{
 "cells": [
  {
   "cell_type": "code",
   "execution_count": 1,
   "metadata": {},
   "outputs": [],
   "source": [
    "import numpy as np\n",
    "import pandas as pd\n",
    "import matplotlib.pyplot as plt\n"
   ]
  },
  {
   "cell_type": "code",
   "execution_count": 29,
   "metadata": {},
   "outputs": [
    {
     "data": {
      "text/plain": [
       "<matplotlib.collections.PathCollection at 0x223725af3c8>"
      ]
     },
     "execution_count": 29,
     "metadata": {},
     "output_type": "execute_result"
    },
    {
     "data": {
      "image/png": "[encoded data removed]",
      "text/plain": [
       "<Figure size 432x288 with 1 Axes>"
      ]
     },
     "metadata": {
      "needs_background": "light"
     },
     "output_type": "display_data"
    }
   ],
   "source": [
    "#create an array X for features and an array Y for label\n",
    "np.random.seed(0)\n",
    "m=100 #rows number\n",
    "X=np.linspace(0,10,m).reshape(m,1) #an array of features\n",
    "Y=X +np.random.randn(m,1)#an array of output\n",
    "#plot X,Y\n",
    "plt.scatter(X,Y)"
   ]
  },
  {
   "cell_type": "code",
   "execution_count": 32,
   "metadata": {},
   "outputs": [
    {
     "data": {
      "text/plain": [
       "array([[0.20847145],\n",
       "       [0.30647825],\n",
       "       [0.40448505],\n",
       "       [0.50249185],\n",
       "       [0.60049865],\n",
       "       [0.69850544],\n",
       "       [0.79651224],\n",
       "       [0.89451904],\n",
       "       [0.99252584],\n",
       "       [1.09053264],\n",
       "       [1.18853944],\n",
       "       [1.28654624],\n",
       "       [1.38455304],\n",
       "       [1.48255984],\n",
       "       [1.58056664],\n",
       "       [1.67857344],\n",
       "       [1.77658024],\n",
       "       [1.87458704],\n",
       "       [1.97259384],\n",
       "       [2.07060064],\n",
       "       [2.16860743],\n",
       "       [2.26661423],\n",
       "       [2.36462103],\n",
       "       [2.46262783],\n",
       "       [2.56063463],\n",
       "       [2.65864143],\n",
       "       [2.75664823],\n",
       "       [2.85465503],\n",
       "       [2.95266183],\n",
       "       [3.05066863],\n",
       "       [3.14867543],\n",
       "       [3.24668223],\n",
       "       [3.34468903],\n",
       "       [3.44269583],\n",
       "       [3.54070263],\n",
       "       [3.63870942],\n",
       "       [3.73671622],\n",
       "       [3.83472302],\n",
       "       [3.93272982],\n",
       "       [4.03073662],\n",
       "       [4.12874342],\n",
       "       [4.22675022],\n",
       "       [4.32475702],\n",
       "       [4.42276382],\n",
       "       [4.52077062],\n",
       "       [4.61877742],\n",
       "       [4.71678422],\n",
       "       [4.81479102],\n",
       "       [4.91279782],\n",
       "       [5.01080462],\n",
       "       [5.10881142],\n",
       "       [5.20681821],\n",
       "       [5.30482501],\n",
       "       [5.40283181],\n",
       "       [5.50083861],\n",
       "       [5.59884541],\n",
       "       [5.69685221],\n",
       "       [5.79485901],\n",
       "       [5.89286581],\n",
       "       [5.99087261],\n",
       "       [6.08887941],\n",
       "       [6.18688621],\n",
       "       [6.28489301],\n",
       "       [6.38289981],\n",
       "       [6.48090661],\n",
       "       [6.57891341],\n",
       "       [6.6769202 ],\n",
       "       [6.774927  ],\n",
       "       [6.8729338 ],\n",
       "       [6.9709406 ],\n",
       "       [7.0689474 ],\n",
       "       [7.1669542 ],\n",
       "       [7.264961  ],\n",
       "       [7.3629678 ],\n",
       "       [7.4609746 ],\n",
       "       [7.5589814 ],\n",
       "       [7.6569882 ],\n",
       "       [7.754995  ],\n",
       "       [7.8530018 ],\n",
       "       [7.9510086 ],\n",
       "       [8.0490154 ],\n",
       "       [8.14702219],\n",
       "       [8.24502899],\n",
       "       [8.34303579],\n",
       "       [8.44104259],\n",
       "       [8.53904939],\n",
       "       [8.63705619],\n",
       "       [8.73506299],\n",
       "       [8.83306979],\n",
       "       [8.93107659],\n",
       "       [9.02908339],\n",
       "       [9.12709019],\n",
       "       [9.22509699],\n",
       "       [9.32310379],\n",
       "       [9.42111059],\n",
       "       [9.51911739],\n",
       "       [9.61712419],\n",
       "       [9.71513098],\n",
       "       [9.81313778],\n",
       "       [9.91114458]])"
      ]
     },
     "execution_count": 32,
     "metadata": {},
     "output_type": "execute_result"
    }
   ],
   "source": [
    "from sklearn.linear_model import LinearRegression # we import regression model\n",
    "\n",
    "#build model \n",
    "model=LinearRegression()\n",
    "#fitting X and Y\n",
    "model.fit(X,Y)\n",
    "#evaluation metrics\n",
    "model.score(X,Y)\n",
    "#predict the value of Y\n",
    "model.predict(X)"
   ]
  },
  {
   "cell_type": "code",
   "execution_count": 34,
   "metadata": {},
   "outputs": [
    {
     "data": {
      "text/plain": [
       "[<matplotlib.lines.Line2D at 0x223726beb08>]"
      ]
     },
     "execution_count": 34,
     "metadata": {},
     "output_type": "execute_result"
    },
    {
     "data": {
      "image/png": "[encoded data removed]",
      "text/plain": [
       "<Figure size 432x288 with 1 Axes>"
      ]
     },
     "metadata": {
      "needs_background": "light"
     },
     "output_type": "display_data"
    }
   ],
   "source": [
    "#plot original data and predicted ones\n",
    "plt.scatter(X,Y)\n",
    "plt.plot(X,model.predict(X),c='r')"
   ]
  },
  {
   "cell_type": "code",
   "execution_count": null,
   "metadata": {},
   "outputs": [],
   "source": []
  }
 ],
 "metadata": {
  "kernelspec": {
   "display_name": "Python 3",
   "language": "python",
   "name": "python3"
  },
  "language_info": {
   "codemirror_mode": {
    "name": "ipython",
    "version": 3
   },
   "file_extension": ".py",
   "mimetype": "text/x-python",
   "name": "python",
   "nbconvert_exporter": "python",
   "pygments_lexer": "ipython3",
   "version": "3.7.4"
  }
 },
 "nbformat": 4,
 "nbformat_minor": 2
}
